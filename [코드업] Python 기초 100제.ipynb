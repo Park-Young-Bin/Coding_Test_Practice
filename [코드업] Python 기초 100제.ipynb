{
 "cells": [
  {
   "cell_type": "markdown",
   "id": "62438df8-c68b-48cc-bc67-a4ea0315095c",
   "metadata": {},
   "source": [
    "# [[코드업] Python 기초 100제](https://codeup.kr/problemsetsol.php?psid=33)"
   ]
  },
  {
   "cell_type": "markdown",
   "id": "3cb08833-4232-448a-89aa-bcea5d9933a9",
   "metadata": {},
   "source": [
    "#### 6006"
   ]
  },
  {
   "cell_type": "code",
   "execution_count": 7,
   "id": "50861e18-2135-4824-91a1-2a7b34c580c4",
   "metadata": {},
   "outputs": [
    {
     "name": "stdout",
     "output_type": "stream",
     "text": [
      "\"!@#$%^&*()'\n"
     ]
    }
   ],
   "source": [
    "print('\\\"!@#$%^&*()\\'')"
   ]
  },
  {
   "cell_type": "markdown",
   "id": "5317f1d7-990f-4dfa-aa14-18cfa2b59e11",
   "metadata": {},
   "source": [
    "#### 6007\n",
    "\n",
    "\"C:\\Download\\'hello'.py\"  \n",
    "(단, 따옴표도 함께 출력한다.)"
   ]
  },
  {
   "cell_type": "code",
   "execution_count": 13,
   "id": "bd1dc7c5-2ee5-47ab-b6bb-1c0cb8cc2e7a",
   "metadata": {},
   "outputs": [
    {
     "name": "stdout",
     "output_type": "stream",
     "text": [
      "\"C:\\Download\\'hello'.py\"\n"
     ]
    }
   ],
   "source": [
    "print(\"\\\"C:\\Download\\\\'hello'.py\\\"\")"
   ]
  },
  {
   "cell_type": "markdown",
   "id": "7f9aea66-643a-465b-87bf-6c158d996fe8",
   "metadata": {},
   "source": [
    "#### 6008\n",
    "\n",
    "print(\"Hello\\nWorld\")  \n",
    "위 코드를 정확히 그대로 출력하시오."
   ]
  },
  {
   "cell_type": "code",
   "execution_count": 15,
   "id": "872e6609-f47e-49a3-9b99-b4212e749e47",
   "metadata": {},
   "outputs": [
    {
     "name": "stdout",
     "output_type": "stream",
     "text": [
      "print(\"Hello\\nWorld\")\n"
     ]
    }
   ],
   "source": [
    "print('print(\"Hello\\\\nWorld\")')"
   ]
  },
  {
   "cell_type": "markdown",
   "id": "a83b4f32-4612-49a9-a436-11b2188fa3c1",
   "metadata": {},
   "source": [
    "#### 6009"
   ]
  },
  {
   "cell_type": "code",
   "execution_count": 17,
   "id": "d73e4526-4319-4f59-9780-8a80557280aa",
   "metadata": {},
   "outputs": [
    {
     "name": "stdin",
     "output_type": "stream",
     "text": [
      " ed\n"
     ]
    },
    {
     "name": "stdout",
     "output_type": "stream",
     "text": [
      "ed\n"
     ]
    }
   ],
   "source": [
    "c = input()\n",
    "print(c)"
   ]
  },
  {
   "cell_type": "markdown",
   "id": "1f7f6926-bf5a-400f-b378-2aa17f72d047",
   "metadata": {},
   "source": [
    "#### 6010"
   ]
  },
  {
   "cell_type": "code",
   "execution_count": 18,
   "id": "c203b85a-06df-4bec-8e74-bfadaaa9f9d4",
   "metadata": {},
   "outputs": [
    {
     "name": "stdin",
     "output_type": "stream",
     "text": [
      " -1\n"
     ]
    },
    {
     "name": "stdout",
     "output_type": "stream",
     "text": [
      "-1\n"
     ]
    }
   ],
   "source": [
    "c = input()\n",
    "c = int(c)\n",
    "print(c)"
   ]
  },
  {
   "cell_type": "markdown",
   "id": "8e965764-84ca-45cc-9007-4307f10d7eb8",
   "metadata": {},
   "source": [
    "#### 6012"
   ]
  },
  {
   "cell_type": "code",
   "execution_count": 19,
   "id": "a4591787-2f49-42ed-ab64-9ce4d4afde3b",
   "metadata": {},
   "outputs": [
    {
     "name": "stdin",
     "output_type": "stream",
     "text": [
      " 2\n",
      " 3\n"
     ]
    },
    {
     "name": "stdout",
     "output_type": "stream",
     "text": [
      "2\n",
      "3\n"
     ]
    }
   ],
   "source": [
    "a = input()\n",
    "b = input()\n",
    "print(a)\n",
    "print(b)"
   ]
  },
  {
   "cell_type": "markdown",
   "id": "a5539187-a483-488c-b129-cbba33e32a32",
   "metadata": {},
   "source": [
    "#### 6013"
   ]
  },
  {
   "cell_type": "code",
   "execution_count": 21,
   "id": "fb748d0d-51bf-4c19-ac08-5f132bffe7b2",
   "metadata": {},
   "outputs": [
    {
     "name": "stdin",
     "output_type": "stream",
     "text": [
      " a\n",
      " b\n"
     ]
    },
    {
     "name": "stdout",
     "output_type": "stream",
     "text": [
      "b\n",
      "a\n"
     ]
    }
   ],
   "source": [
    "a = input()\n",
    "b = input()\n",
    "print(b)\n",
    "print(a)"
   ]
  },
  {
   "cell_type": "markdown",
   "id": "399fec2c-385e-4414-92ed-9b489eb631af",
   "metadata": {},
   "source": [
    "#### 6014"
   ]
  },
  {
   "cell_type": "code",
   "execution_count": 22,
   "id": "a7a14202-1b0f-46c5-ba3d-f215149dd1a4",
   "metadata": {},
   "outputs": [
    {
     "name": "stdin",
     "output_type": "stream",
     "text": [
      " 3.14\n"
     ]
    },
    {
     "name": "stdout",
     "output_type": "stream",
     "text": [
      "3.14\n",
      "3.14\n",
      "3.14\n"
     ]
    }
   ],
   "source": [
    "a = float(input())\n",
    "print(a)\n",
    "print(a)\n",
    "print(a)"
   ]
  },
  {
   "cell_type": "markdown",
   "id": "780fd4d3-6235-458b-b513-c0960a28060b",
   "metadata": {},
   "source": [
    "#### 6015\n",
    "공백을 두고 입력된정수(integer) 2개를 입력받아 줄을 바꿔 출력해보자."
   ]
  },
  {
   "cell_type": "code",
   "execution_count": 27,
   "id": "67fb26d6-bf45-4da3-8040-c98e8e1cbfba",
   "metadata": {},
   "outputs": [
    {
     "name": "stdin",
     "output_type": "stream",
     "text": [
      " a 2\n"
     ]
    },
    {
     "name": "stdout",
     "output_type": "stream",
     "text": [
      "a\n",
      "2\n"
     ]
    }
   ],
   "source": [
    "a, b = input().split()\n",
    "print(a)\n",
    "print(b)"
   ]
  },
  {
   "cell_type": "markdown",
   "id": "4cd2aef5-2b92-4af9-898b-717e2d84d7b9",
   "metadata": {},
   "source": [
    "#### 6016\n",
    "공백을 두고 문자(character) 2개를 입력받아 순서를 바꿔 출력해보자."
   ]
  },
  {
   "cell_type": "code",
   "execution_count": 32,
   "id": "e342b7f2-d2d2-4106-81d5-c09d2eeeef8e",
   "metadata": {},
   "outputs": [
    {
     "name": "stdin",
     "output_type": "stream",
     "text": [
      " qkr dud\n"
     ]
    },
    {
     "name": "stdout",
     "output_type": "stream",
     "text": [
      "dud\n",
      "qkr\n"
     ]
    }
   ],
   "source": [
    "a, b = str(input()).split()\n",
    "print(b)\n",
    "print(a)"
   ]
  },
  {
   "cell_type": "markdown",
   "id": "eeb9cfa4-112d-4064-b8ad-2f51bcb844cc",
   "metadata": {},
   "source": [
    "#### 6017\n",
    "정수(integer), 실수, 문자(character), 문자열(string) 등 1개만 입력받아 한 줄로 3번 출력해보자."
   ]
  },
  {
   "cell_type": "code",
   "execution_count": 37,
   "id": "83cfb6a6-5b6b-4790-a05a-44e02cf2be45",
   "metadata": {},
   "outputs": [
    {
     "name": "stdin",
     "output_type": "stream",
     "text": [
      " 1\n"
     ]
    },
    {
     "name": "stdout",
     "output_type": "stream",
     "text": [
      "1 1 1\n"
     ]
    }
   ],
   "source": [
    "c = input()\n",
    "print(c, c, c)"
   ]
  },
  {
   "cell_type": "markdown",
   "id": "f8a3bee7-a43c-40ab-8d32-6e87220368db",
   "metadata": {},
   "source": [
    "#### 6018\n",
    "24시간 **시:분 형식으로 시간이 입력**될 때, 그대로 출력하는 연습을 해보자."
   ]
  },
  {
   "cell_type": "code",
   "execution_count": 41,
   "id": "7b2aa936-45c4-452f-a90f-f1ddd3e7dc4f",
   "metadata": {},
   "outputs": [
    {
     "name": "stdin",
     "output_type": "stream",
     "text": [
      " 3:16\n"
     ]
    },
    {
     "name": "stdout",
     "output_type": "stream",
     "text": [
      "3:16\n"
     ]
    }
   ],
   "source": [
    "a, b = input().split(':')\n",
    "print(a, b, sep = ':')"
   ]
  },
  {
   "cell_type": "markdown",
   "id": "dcfd48be-e8b1-459f-8113-8f0fd0fb4c19",
   "metadata": {},
   "source": [
    "#### 6019\n",
    "\n",
    "\"연도.월.일\"을 입력받아 \"일-월-연도\" 순서로 바꿔 출력해보자."
   ]
  },
  {
   "cell_type": "code",
   "execution_count": 43,
   "id": "d74ed4ea-1a8f-4dc8-be6f-7b42a0baf4b6",
   "metadata": {},
   "outputs": [
    {
     "name": "stdin",
     "output_type": "stream",
     "text": [
      " 2021.02.04\n"
     ]
    },
    {
     "name": "stdout",
     "output_type": "stream",
     "text": [
      "04-02-2021\n"
     ]
    }
   ],
   "source": [
    "a, b, c = input().split('.')\n",
    "print(c, b, a, sep='-')"
   ]
  },
  {
   "cell_type": "markdown",
   "id": "2228297c-1000-4ca8-b269-be1af929eed2",
   "metadata": {},
   "source": [
    "#### *6020*\n",
    "주민번호를 입력받아 형태를 바꿔 출력해보자.  \n",
    "'-'를 제외한 주민번호 13자리를 모두 붙여 출력한다."
   ]
  },
  {
   "cell_type": "code",
   "execution_count": 45,
   "id": "e4b8f4a9-390f-4c69-9110-b798c5702e68",
   "metadata": {},
   "outputs": [
    {
     "name": "stdin",
     "output_type": "stream",
     "text": [
      " 000907-1121112\n"
     ]
    },
    {
     "name": "stdout",
     "output_type": "stream",
     "text": [
      "0009071121112\n"
     ]
    }
   ],
   "source": [
    "a, b = input().split('-')\n",
    "print(a, b, sep=\"\")"
   ]
  },
  {
   "cell_type": "markdown",
   "id": "40e04e33-96ef-4753-b97c-1e0ee649366c",
   "metadata": {},
   "source": [
    "#### 6021\n",
    "알파벳과 숫자로 이루어진 단어 1개가 입력된다.  \n",
    "입력받은 단어의 각 문자를 한 줄에 한 문자씩 분리해 출력한다."
   ]
  },
  {
   "cell_type": "code",
   "execution_count": 50,
   "id": "4e96c255-d0b5-440f-9ccd-8e521ad7f8ab",
   "metadata": {},
   "outputs": [
    {
     "name": "stdin",
     "output_type": "stream",
     "text": [
      " Hello\n"
     ]
    },
    {
     "name": "stdout",
     "output_type": "stream",
     "text": [
      "H\n",
      "e\n",
      "l\n",
      "l\n",
      "o\n"
     ]
    }
   ],
   "source": [
    "a = str(input())\n",
    "for i in range(len(a)):\n",
    "    print(a[i])"
   ]
  },
  {
   "cell_type": "markdown",
   "id": "91207864-32ab-43f6-8b28-768fc6286baa",
   "metadata": {},
   "source": [
    "#### 6022\n",
    "6자리의 연월일(YYMMDD)을 입력받아 나누어 출력해보자.  \n",
    "년도(YY) 월(MM) 일(DD)을 공백으로 구분해 한 줄로 출력한다."
   ]
  },
  {
   "cell_type": "code",
   "execution_count": 53,
   "id": "42e1ef7b-191d-429d-9c87-d0fef6307da6",
   "metadata": {},
   "outputs": [
    {
     "name": "stdin",
     "output_type": "stream",
     "text": [
      " 971219\n"
     ]
    },
    {
     "name": "stdout",
     "output_type": "stream",
     "text": [
      "97 12 19\n"
     ]
    }
   ],
   "source": [
    "a = input()\n",
    "print(a[0:2], a[2:4], a[4:6], sep=\" \")"
   ]
  },
  {
   "cell_type": "markdown",
   "id": "89323912-92f4-46b3-80fa-0b3ef259b88b",
   "metadata": {},
   "source": [
    "#### 6023\n",
    "시:분:초 형식으로 시간이 입력될 때 분만 출력해보자."
   ]
  },
  {
   "cell_type": "code",
   "execution_count": 58,
   "id": "18740135-d10a-4e4b-ad1b-062ec5688adb",
   "metadata": {},
   "outputs": [
    {
     "name": "stdin",
     "output_type": "stream",
     "text": [
      " 17:23:57\n"
     ]
    },
    {
     "name": "stdout",
     "output_type": "stream",
     "text": [
      "23\n"
     ]
    }
   ],
   "source": [
    "a=input().split(':')\n",
    "print(a[1])"
   ]
  },
  {
   "cell_type": "markdown",
   "id": "5b4f396a-b800-42e4-8509-c2808b0e4f8e",
   "metadata": {},
   "source": [
    "#### 6024\n",
    "알파벳 문자와 숫자로 이루어진 단어 2개를 입력받아  \n",
    "순서대로 붙여 출력하는 프로그램을 작성해보자."
   ]
  },
  {
   "cell_type": "code",
   "execution_count": 59,
   "id": "d9807059-190a-47a4-a18b-533c42ee7991",
   "metadata": {},
   "outputs": [
    {
     "name": "stdin",
     "output_type": "stream",
     "text": [
      " hello world\n"
     ]
    },
    {
     "name": "stdout",
     "output_type": "stream",
     "text": [
      "helloworld\n"
     ]
    }
   ],
   "source": [
    "a, b = input().split(' ')\n",
    "print(a, b, sep='')"
   ]
  },
  {
   "cell_type": "markdown",
   "id": "2fb30788-538b-4d1f-bf41-3ae79b1347da",
   "metadata": {},
   "source": [
    "#### 6025\n",
    "정수 2개를 입력받아 합을 출력하는 프로그램을 작성해보자."
   ]
  },
  {
   "cell_type": "code",
   "execution_count": 64,
   "id": "a144b9af-03b5-4d5c-abed-ac487aac34a7",
   "metadata": {},
   "outputs": [
    {
     "name": "stdin",
     "output_type": "stream",
     "text": [
      " 123 -123\n"
     ]
    },
    {
     "name": "stdout",
     "output_type": "stream",
     "text": [
      "0\n"
     ]
    }
   ],
   "source": [
    "a, b = input().split(' ')\n",
    "print(int(a) + int(b))"
   ]
  },
  {
   "cell_type": "markdown",
   "id": "db2a2e2b-3d97-4f4f-93f5-620209a59e8c",
   "metadata": {},
   "source": [
    "#### 6026\n",
    "실수 2개를 입력받아 합을 출력하는 프로그램을 작성해보자."
   ]
  },
  {
   "cell_type": "code",
   "execution_count": 67,
   "id": "f8ad18da-0bb0-440d-ad30-9d325ea148f7",
   "metadata": {},
   "outputs": [
    {
     "name": "stdin",
     "output_type": "stream",
     "text": [
      " 0.1\n",
      " 0.9\n"
     ]
    },
    {
     "name": "stdout",
     "output_type": "stream",
     "text": [
      "1.0\n"
     ]
    }
   ],
   "source": [
    "a = input()\n",
    "b = input()\n",
    "c = float(a) + float(b)\n",
    "print(c)"
   ]
  },
  {
   "cell_type": "markdown",
   "id": "56adbae2-c658-4ca8-b8b0-abba635b9c15",
   "metadata": {},
   "source": [
    "#### *6027*\n",
    "10진수를 입력받아 16진수(hexadecimal)로 출력해보자."
   ]
  },
  {
   "cell_type": "code",
   "execution_count": 70,
   "id": "e86a8ff3-8a9e-4f54-b560-7a26b7d5db0c",
   "metadata": {},
   "outputs": [
    {
     "name": "stdin",
     "output_type": "stream",
     "text": [
      " 255\n"
     ]
    },
    {
     "name": "stdout",
     "output_type": "stream",
     "text": [
      "ff\n"
     ]
    }
   ],
   "source": [
    "a = input()\n",
    "n = int(a)\n",
    "print('%x'%n)"
   ]
  },
  {
   "cell_type": "code",
   "execution_count": null,
   "id": "a3d19941-06ca-45d7-a46c-1ede71f10b97",
   "metadata": {},
   "outputs": [],
   "source": []
  }
 ],
 "metadata": {
  "kernelspec": {
   "display_name": "Python 3",
   "language": "python",
   "name": "python3"
  },
  "language_info": {
   "codemirror_mode": {
    "name": "ipython",
    "version": 3
   },
   "file_extension": ".py",
   "mimetype": "text/x-python",
   "name": "python",
   "nbconvert_exporter": "python",
   "pygments_lexer": "ipython3",
   "version": "3.8.8"
  }
 },
 "nbformat": 4,
 "nbformat_minor": 5
}
